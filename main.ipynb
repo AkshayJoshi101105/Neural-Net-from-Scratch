{
 "cells": [
  {
   "cell_type": "code",
   "execution_count": 4,
   "id": "b6d7e806",
   "metadata": {},
   "outputs": [],
   "source": [
    "import numpy as np \n",
    "import pandas as pd\n",
    "import matplotlib.pyplot as plt\n"
   ]
  },
  {
   "cell_type": "code",
   "execution_count": 5,
   "id": "a4448e9b",
   "metadata": {},
   "outputs": [],
   "source": [
    "import tensorflow as tf\n",
    "from tensorflow.keras.datasets import mnist"
   ]
  },
  {
   "cell_type": "code",
   "execution_count": 6,
   "id": "cd539049",
   "metadata": {},
   "outputs": [],
   "source": [
    "# Import the MNIST dataset\n",
    "(X_train, y_train), (X_test, y_test) = mnist.load_data()"
   ]
  },
  {
   "cell_type": "code",
   "execution_count": 7,
   "id": "c549f54f",
   "metadata": {},
   "outputs": [],
   "source": [
    "X_train=X_train/255.0\n",
    "X_test=X_test/255.0"
   ]
  },
  {
   "cell_type": "code",
   "execution_count": 8,
   "id": "5146b317",
   "metadata": {},
   "outputs": [
    {
     "name": "stdout",
     "output_type": "stream",
     "text": [
      "Shape of X_train: (60000, 28, 28)\n"
     ]
    },
    {
     "data": {
      "text/plain": [
       "array([[[0., 0., 0., ..., 0., 0., 0.],\n",
       "        [0., 0., 0., ..., 0., 0., 0.],\n",
       "        [0., 0., 0., ..., 0., 0., 0.],\n",
       "        ...,\n",
       "        [0., 0., 0., ..., 0., 0., 0.],\n",
       "        [0., 0., 0., ..., 0., 0., 0.],\n",
       "        [0., 0., 0., ..., 0., 0., 0.]],\n",
       "\n",
       "       [[0., 0., 0., ..., 0., 0., 0.],\n",
       "        [0., 0., 0., ..., 0., 0., 0.],\n",
       "        [0., 0., 0., ..., 0., 0., 0.],\n",
       "        ...,\n",
       "        [0., 0., 0., ..., 0., 0., 0.],\n",
       "        [0., 0., 0., ..., 0., 0., 0.],\n",
       "        [0., 0., 0., ..., 0., 0., 0.]],\n",
       "\n",
       "       [[0., 0., 0., ..., 0., 0., 0.],\n",
       "        [0., 0., 0., ..., 0., 0., 0.],\n",
       "        [0., 0., 0., ..., 0., 0., 0.],\n",
       "        ...,\n",
       "        [0., 0., 0., ..., 0., 0., 0.],\n",
       "        [0., 0., 0., ..., 0., 0., 0.],\n",
       "        [0., 0., 0., ..., 0., 0., 0.]],\n",
       "\n",
       "       ...,\n",
       "\n",
       "       [[0., 0., 0., ..., 0., 0., 0.],\n",
       "        [0., 0., 0., ..., 0., 0., 0.],\n",
       "        [0., 0., 0., ..., 0., 0., 0.],\n",
       "        ...,\n",
       "        [0., 0., 0., ..., 0., 0., 0.],\n",
       "        [0., 0., 0., ..., 0., 0., 0.],\n",
       "        [0., 0., 0., ..., 0., 0., 0.]],\n",
       "\n",
       "       [[0., 0., 0., ..., 0., 0., 0.],\n",
       "        [0., 0., 0., ..., 0., 0., 0.],\n",
       "        [0., 0., 0., ..., 0., 0., 0.],\n",
       "        ...,\n",
       "        [0., 0., 0., ..., 0., 0., 0.],\n",
       "        [0., 0., 0., ..., 0., 0., 0.],\n",
       "        [0., 0., 0., ..., 0., 0., 0.]],\n",
       "\n",
       "       [[0., 0., 0., ..., 0., 0., 0.],\n",
       "        [0., 0., 0., ..., 0., 0., 0.],\n",
       "        [0., 0., 0., ..., 0., 0., 0.],\n",
       "        ...,\n",
       "        [0., 0., 0., ..., 0., 0., 0.],\n",
       "        [0., 0., 0., ..., 0., 0., 0.],\n",
       "        [0., 0., 0., ..., 0., 0., 0.]]])"
      ]
     },
     "execution_count": 8,
     "metadata": {},
     "output_type": "execute_result"
    }
   ],
   "source": [
    "print(\"Shape of X_train:\", X_train.shape)\n",
    "X_train[0:10]   #3D array, 60000 images, 28x28 pixels"
   ]
  },
  {
   "cell_type": "code",
   "execution_count": 9,
   "id": "cbce450b",
   "metadata": {},
   "outputs": [
    {
     "name": "stdout",
     "output_type": "stream",
     "text": [
      "(60000, 784)\n"
     ]
    },
    {
     "data": {
      "text/plain": [
       "(784, 60000)"
      ]
     },
     "execution_count": 9,
     "metadata": {},
     "output_type": "execute_result"
    }
   ],
   "source": [
    "X_reshaped_train = X_train.reshape(60000, 784)    # rows=60k       , columns= 784\n",
    "print(X_reshaped_train.shape )                    # each row 1 img , each column nth pixel of each image\n",
    "\n",
    "X_reshaped_train=X_reshaped_train.T                                # rows=784                        , columns= 60k\n",
    "X_reshaped_train.shape                          # each row nth pixel of each image, each column 1 image\n",
    "# "
   ]
  },
  {
   "cell_type": "code",
   "execution_count": 10,
   "id": "e4166252",
   "metadata": {},
   "outputs": [
    {
     "name": "stdout",
     "output_type": "stream",
     "text": [
      "(60000,)\n"
     ]
    },
    {
     "data": {
      "text/plain": [
       "np.uint8(5)"
      ]
     },
     "execution_count": 10,
     "metadata": {},
     "output_type": "execute_result"
    }
   ],
   "source": [
    "print(y_train.shape) # do not reshape y_train because?\n",
    "y_train[0]"
   ]
  },
  {
   "cell_type": "code",
   "execution_count": 11,
   "id": "71724996",
   "metadata": {},
   "outputs": [
    {
     "data": {
      "text/plain": [
       "(784, 10000)"
      ]
     },
     "execution_count": 11,
     "metadata": {},
     "output_type": "execute_result"
    }
   ],
   "source": [
    "X_reshaped_test = X_test.reshape(10000, 784).T\n",
    "X_reshaped_test.shape                        "
   ]
  },
  {
   "cell_type": "code",
   "execution_count": 12,
   "id": "b6c418e5",
   "metadata": {},
   "outputs": [
    {
     "data": {
      "text/plain": [
       "(10000,)"
      ]
     },
     "execution_count": 12,
     "metadata": {},
     "output_type": "execute_result"
    }
   ],
   "source": [
    "y_test.shape"
   ]
  },
  {
   "cell_type": "code",
   "execution_count": 13,
   "id": "2d84dea9",
   "metadata": {},
   "outputs": [],
   "source": [
    "def init_params():   \n",
    "    W1 = np.random.randn(64, 784) * np.sqrt(1. / 784)\n",
    "    b1 = np.zeros((64, 1))\n",
    "    W2 = np.random.randn(10, 64) * np.sqrt(1. / 64)\n",
    "    b2 = np.zeros((10, 1))\n",
    "    return W1, b1, W2, b2"
   ]
  },
  {
   "cell_type": "code",
   "execution_count": 14,
   "id": "06a9588c",
   "metadata": {},
   "outputs": [],
   "source": [
    "# def init_params():\n",
    "#     W1=np.random.rand(64,784)*0.01 - 0.005  # small random values\n",
    "#     b1=np.random.rand(64,1)*0.01 - 0.005\n",
    "#     W2=np.random.rand(10,64)*0.01 - 0.005\n",
    "#     b2=np.random.rand(10,1)*0.01 - 0.005\n",
    "#     return W1, b1, W2, b2"
   ]
  },
  {
   "cell_type": "code",
   "execution_count": 15,
   "id": "050fa5ec",
   "metadata": {},
   "outputs": [],
   "source": [
    "def ReLU(Z):                       #OR DO\n",
    "   Z=np.maximum(0,Z)               # if (Z>0):              \n",
    "                                   #    Z=Z                \n",
    "   return Z                        # else:\n",
    "                                   #    Z=0"
   ]
  },
  {
   "cell_type": "code",
   "execution_count": 16,
   "id": "995f3971",
   "metadata": {},
   "outputs": [],
   "source": [
    "def deriv_ReLU(Z):                  #OR DO\n",
    "    return Z > 0                    # if (Z>0):\n",
    "                                    #    return 1\n",
    "                                    # else:\n",
    "                                    #    return 0"
   ]
  },
  {
   "cell_type": "code",
   "execution_count": 17,
   "id": "8b2f06bc",
   "metadata": {},
   "outputs": [
    {
     "data": {
      "text/plain": [
       "True"
      ]
     },
     "execution_count": 17,
     "metadata": {},
     "output_type": "execute_result"
    }
   ],
   "source": [
    "deriv_ReLU(4)"
   ]
  },
  {
   "cell_type": "code",
   "execution_count": 18,
   "id": "9af5dbef",
   "metadata": {},
   "outputs": [],
   "source": [
    "def softmax(Z):\n",
    "    expZ = np.exp(Z - np.max(Z, axis=0, keepdims=True))  # for numerical stability\n",
    "    return expZ / np.sum(expZ, axis=0, keepdims=True)"
   ]
  },
  {
   "cell_type": "code",
   "execution_count": 19,
   "id": "fbf8669a",
   "metadata": {},
   "outputs": [],
   "source": [
    "# def softmax(Z):\n",
    "#     return np.exp(Z)/np.sum(np.exp(Z))\n",
    "     "
   ]
  },
  {
   "cell_type": "code",
   "execution_count": 20,
   "id": "9cddec51",
   "metadata": {},
   "outputs": [],
   "source": [
    "def forward_prop(W1, b1, W2, b2, X):\n",
    "    Z1=W1.dot(X)+b1\n",
    "    A1=ReLU(Z1)\n",
    "    Z2=W2.dot(A1)+b2\n",
    "    A2=softmax(Z2)\n",
    "    return Z1, A1, Z2, A2"
   ]
  },
  {
   "cell_type": "code",
   "execution_count": 21,
   "id": "9fce4afc",
   "metadata": {},
   "outputs": [],
   "source": [
    "def one_hot(y):\n",
    "    one_hot=np.zeros((y.size, y.max()+1))\n",
    "    one_hot[np.arange(y.size), y]=1        #np.arange(y.size) = [0, 1, 2] , y = [2, 0, 1],\n",
    "                                           #one_hot[0, 2] = 1  # for y[0] = 2\n",
    "                                           #[[0. 0. 1.], ....]\n",
    "    \n",
    "    return one_hot.T                      #EK COL MAI EK IMG KI DETAIL HOGI(har jgh 0, bas uss row mai 1 hoga jo uska label hai )\n",
    "                                           \n"
   ]
  },
  {
   "cell_type": "code",
   "execution_count": 22,
   "id": "183dd232",
   "metadata": {},
   "outputs": [],
   "source": [
    "def backprop(Z1, A1, Z2, A2, W2, X, Y):\n",
    "    m=Y.size\n",
    "    one_hot_Y = one_hot(Y)                # convert Y to one-hot encoding\n",
    "    dZ2 = A2 - one_hot_Y                  # derivative of loss w.r.t. Z2   \n",
    "    dW2 = (1/m) * dZ2.dot(A1.T)           # derivative of loss w.r.t. W2\n",
    "    db2 = (1/m) * np.sum(dZ2, axis=1, keepdims=True) # (1/m) * np.sum(dZ2,2)  # derivative of loss w.r.t. b2\n",
    "    dZ1 = W2.T.dot(dZ2) * deriv_ReLU(Z1)  # derivative of loss w.r.t. Z1\n",
    "    dW1 = (1/m) * dZ1.dot(X.T)           # derivative of loss w.r.t. W1\n",
    "    db1 = (1/m) * np.sum(dZ1, axis=1, keepdims=True) #(1/m) * np.sum(dZ2,2) (1/m) * np.sum(dZ2,2)  # derivative of loss w.r.t. b1\n",
    "\n",
    "    return dW1, db1, dW2, db2"
   ]
  },
  {
   "cell_type": "code",
   "execution_count": 23,
   "id": "35fcdccd",
   "metadata": {},
   "outputs": [],
   "source": [
    "def update_params(W1, b1, W2, b2, dW1, db1, dW2, db2, learning_rate=0.01):\n",
    "    W1 -= learning_rate * dW1\n",
    "    b1 -= learning_rate * db1\n",
    "    W2 -= learning_rate * dW2\n",
    "    b2 -= learning_rate * db2\n",
    "    return W1, b1, W2, b2"
   ]
  },
  {
   "cell_type": "code",
   "execution_count": 24,
   "id": "5830b902",
   "metadata": {},
   "outputs": [],
   "source": [
    "def get_accuracy(predictions, Y):\n",
    "    return np.sum(predictions == Y) / Y.size"
   ]
  },
  {
   "cell_type": "code",
   "execution_count": 25,
   "id": "2bf5f226",
   "metadata": {},
   "outputs": [],
   "source": [
    "def get_predictions(A2):\n",
    "    return np.argmax(A2, axis=0)"
   ]
  },
  {
   "cell_type": "code",
   "execution_count": 26,
   "id": "eda58c01",
   "metadata": {},
   "outputs": [],
   "source": [
    "def gradient_descent(X, Y, epochs=1000,learning_rate=0.01,):\n",
    "    W1, b1, W2, b2 = init_params()\n",
    "    for i in range(epochs):\n",
    "        Z1, A1, Z2, A2 = forward_prop(W1, b1, W2, b2, X)\n",
    "        dW1, db1, dW2, db2 = backprop(Z1, A1, Z2, A2, W2, X, Y)\n",
    "        W1, b1, W2, b2 = update_params(W1, b1, W2, b2, dW1, db1, dW2, db2, learning_rate)\n",
    "        \n",
    "        if i % 50 == 0:\n",
    "            print(\"epochs:\",i)\n",
    "            print(\"accuracy:\", get_accuracy(get_predictions(A2), Y))\n",
    "    \n",
    "    return W1, b1, W2, b2\n"
   ]
  },
  {
   "cell_type": "code",
   "execution_count": 27,
   "id": "3c021a90",
   "metadata": {},
   "outputs": [
    {
     "name": "stdout",
     "output_type": "stream",
     "text": [
      "epochs: 0\n",
      "accuracy: 0.09848333333333334\n",
      "epochs: 50\n",
      "accuracy: 0.35113333333333335\n",
      "epochs: 100\n",
      "accuracy: 0.58175\n",
      "epochs: 150\n",
      "accuracy: 0.6776333333333333\n",
      "epochs: 200\n",
      "accuracy: 0.7217833333333333\n",
      "epochs: 250\n",
      "accuracy: 0.7474\n",
      "epochs: 300\n",
      "accuracy: 0.7699833333333334\n",
      "epochs: 350\n",
      "accuracy: 0.7891833333333333\n",
      "epochs: 400\n",
      "accuracy: 0.8042833333333334\n",
      "epochs: 450\n",
      "accuracy: 0.81635\n",
      "epochs: 500\n",
      "accuracy: 0.8259666666666666\n"
     ]
    }
   ],
   "source": [
    "W1, b1, W2, b2 = gradient_descent(X_reshaped_train, y_train, 501, 0.01 )"
   ]
  },
  {
   "cell_type": "code",
   "execution_count": 28,
   "id": "10bc3021",
   "metadata": {},
   "outputs": [
    {
     "name": "stdout",
     "output_type": "stream",
     "text": [
      "(array([0, 1, 2, 3, 4, 5, 6, 7, 8, 9]), array([6168, 7654, 5792, 6596, 5788, 3570, 6245, 6313, 5880, 5994]))\n"
     ]
    }
   ],
   "source": [
    "preds = get_predictions(forward_prop(W1, b1, W2, b2, X_reshaped_train)[-1])\n",
    "print(np.unique(preds, return_counts=True))"
   ]
  },
  {
   "cell_type": "code",
   "execution_count": 40,
   "id": "20002603",
   "metadata": {},
   "outputs": [],
   "source": [
    "def make_predictions(X, W1, b1, W2, b2):\n",
    "    _, _, _, A2 = forward_prop(W1, b1, W2, b2, X)\n",
    "    predictions = get_predictions(A2)\n",
    "    return predictions\n",
    "\n",
    "def test_prediction(index, W1, b1, W2, b2):\n",
    "    current_image = X_reshaped_train[:, index, None]\n",
    "    prediction = make_predictions(X_reshaped_train[:, index, None], W1, b1, W2, b2)\n",
    "    label = y_train[index]\n",
    "    print(\"Prediction: \", prediction)\n",
    "    print(\"Label: \", label)\n",
    "\n",
    "    current_image = current_image.reshape((28, 28)) * 255\n",
    "    plt.gray()\n",
    "    plt.imshow(current_image, interpolation='nearest')\n",
    "    plt.show()\n"
   ]
  },
  {
   "cell_type": "code",
   "execution_count": 45,
   "id": "9bcd38c8",
   "metadata": {},
   "outputs": [
    {
     "name": "stdout",
     "output_type": "stream",
     "text": [
      "Prediction:  [6]\n",
      "Label:  6\n"
     ]
    },
    {
     "data": {
      "image/png": "[encoded data removed]",
      "text/plain": [
       "<Figure size 640x480 with 1 Axes>"
      ]
     },
     "metadata": {},
     "output_type": "display_data"
    }
   ],
   "source": [
    "test_prediction(106, W1, b1, W2, b2)  # Test with the first image"
   ]
  },
  {
   "cell_type": "code",
   "execution_count": 46,
   "id": "5ae62a90",
   "metadata": {},
   "outputs": [
    {
     "name": "stdout",
     "output_type": "stream",
     "text": [
      "0.8369\n"
     ]
    }
   ],
   "source": [
    "test_pred=make_predictions(X_reshaped_test, W1, b1, W2, b2)\n",
    "print(get_accuracy(test_pred, y_test))"
   ]
  }
 ],
 "metadata": {
  "kernelspec": {
   "display_name": "dl_venv",
   "language": "python",
   "name": "python3"
  },
  "language_info": {
   "codemirror_mode": {
    "name": "ipython",
    "version": 3
   },
   "file_extension": ".py",
   "mimetype": "text/x-python",
   "name": "python",
   "nbconvert_exporter": "python",
   "pygments_lexer": "ipython3",
   "version": "3.12.1"
  }
 },
 "nbformat": 4,
 "nbformat_minor": 5
}
